{
 "cells": [
  {
   "cell_type": "code",
   "execution_count": 1,
   "id": "1815f4c2",
   "metadata": {},
   "outputs": [
    {
     "data": {
      "text/plain": [
       "10370"
      ]
     },
     "execution_count": 1,
     "metadata": {},
     "output_type": "execute_result"
    }
   ],
   "source": [
    "filelines = []\n",
    "\n",
    "with open('./input/Lectionary 2021.txt', 'r') as txtfile:\n",
    "    filelines = txtfile.readlines()\n",
    "    \n",
    "len(filelines)"
   ]
  },
  {
   "cell_type": "code",
   "execution_count": 2,
   "id": "a1d1e712",
   "metadata": {},
   "outputs": [],
   "source": [
    "from enum import Enum\n",
    "import re\n",
    "\n",
    "class Section(Enum):\n",
    "    UNKNOWN = 0,\n",
    "    MONTH = 1\n",
    "    DAY = 2,\n",
    "    DAILY_EUCHARISTIC_L = 3,\n",
    "    FOR_ALL_SAINTS = 4,\n",
    "    MORNING_PRAYER = 5,\n",
    "    EVENING_PRAYER = 6,\n",
    "    REVISED_COMMON_L = 7,\n",
    "    OTHER_READINGS_MORNING = 8,\n",
    "    OTHER_READINGS_EVENING = 9\n",
    "\n",
    "\n",
    "def isDaySection(line, currentSection):\n",
    "    match = re.search(\"^(SUN|MON|TUE|WED|THU|FRI|SAT)\\\\b\", line)\n",
    "    if match:\n",
    "        return True\n",
    "\n",
    "    match = re.search(\"^[0-9]\", line)\n",
    "    isDayNumber = match and currentSection == Section.DAY\n",
    "    return True if isDayNumber else False\n",
    "\n",
    "def isMonthSection(line):\n",
    "    match = re.search(\"^(JANUARY|FEBRUARY|MARCH|APRIL|MAY|JUNE|JULY|AUGUST|SEPTEMBER|OCTOBER|NOVEMBER|DECEMBER) \", line)\n",
    "    return True if match else False\n",
    "\n",
    "def isOtherReadingsMorning(line, previousLine):\n",
    "    if(re.search(\"^Other Readings\", previousLine) and re.search(\"^Morning\", line)):\n",
    "        return True \n",
    "    return False\n",
    "\n",
    "def isOtherReadingsEvening(line, previousLine):\n",
    "    if(re.search(\"^Other Readings\", previousLine) and re.search(\"^Evening\", line)):\n",
    "        return True \n",
    "    return False\n",
    "    \n",
    "def getSection(line, previousLine = None, currentSection = Section.UNKNOWN):\n",
    "    if(isDaySection(line, currentSection)):\n",
    "        return Section.DAY\n",
    "    if(isMonthSection(line)):\n",
    "        return Section.MONTH\n",
    "    if(isOtherReadingsMorning(line, previousLine)):\n",
    "        return Section.OTHER_READINGS_MORNING\n",
    "    if(isOtherReadingsEvening(line, previousLine)):\n",
    "        return Section.OTHER_READINGS_EVENING\n",
    "    \n",
    "    return Section.UNKNOWN\n",
    "    "
   ]
  },
  {
   "cell_type": "code",
   "execution_count": 3,
   "id": "4669d4a2",
   "metadata": {},
   "outputs": [
    {
     "name": "stdout",
     "output_type": "stream",
     "text": [
      "True\n",
      "True\n",
      "True\n",
      "Section.MONTH\n"
     ]
    }
   ],
   "source": [
    "days = {}\n",
    "\n",
    "print(isMonthSection(\"NOVEMBER 2020\"))\n",
    "print(isDaySection(\"2V\", Section.DAY))\n",
    "print(isOtherReadingsEvening(\"Evening\", \"Other Readings\"))\n",
    "\n",
    "print(getSection(\"NOVEMBER 2020\", None))\n",
    "    \n",
    "    "
   ]
  },
  {
   "cell_type": "code",
   "execution_count": 4,
   "id": "ed59d33d",
   "metadata": {},
   "outputs": [],
   "source": [
    "import json\n",
    "\n",
    "days = []\n",
    "\n",
    "def goThroughFile():\n",
    "    previousLine = None\n",
    "    currentSection = Section.MONTH\n",
    "    widerSection = None\n",
    "    \n",
    "    currentMonth = \"NOVEMBER\"\n",
    "    currentDayOfWeek = \"SAT\"\n",
    "    currentDay = \"28\"\n",
    "    saints = None\n",
    "    \n",
    "    otherReadingsMorning = []\n",
    "    otherReadingsEvening = []\n",
    "    \n",
    "    for line in filelines:\n",
    "        \n",
    "        line = line.replace('\\n', '')     \n",
    "        newSection = getSection(line, previousLine, currentSection)\n",
    "        #print(f\"{newSection} {line} ({widerSection})\")\n",
    "           \n",
    "        hitStartOfNextDay = newSection == Section.MONTH or (newSection == Section.DAY and currentSection != Section.MONTH and currentSection != Section.DAY)\n",
    "        if(hitStartOfNextDay):\n",
    "            if(not currentDayOfWeek):            \n",
    "                print(f\"hit line {line}\")\n",
    "            #summarise\n",
    "            dayData = {\n",
    "                'date': f\"{currentDayOfWeek} {currentDay} {currentMonth}\",\n",
    "                'dayDescription': saints,\n",
    "                'otherReadingsMorning':otherReadingsMorning,\n",
    "                'otherReadingsEvening':otherReadingsEvening\n",
    "            }       \n",
    "            days.append(dayData)\n",
    "            \n",
    "            #clear the data\n",
    "            currentDayOfWeek = None\n",
    "            currentDay = None\n",
    "            otherReadingsMorning = []\n",
    "            otherReadingsEvening = []      \n",
    "        \n",
    "        if(newSection == Section.MONTH):  \n",
    "            currentMonth = line\n",
    "            widerSection = None\n",
    "        elif (newSection == Section.DAY and currentSection != Section.DAY):\n",
    "            currentDayOfWeek = line[0:3]\n",
    "            saints = line[3:]\n",
    "            widerSection = Section.DAY\n",
    "        elif (newSection == Section.DAY and currentSection == Section.DAY):\n",
    "            match = re.search(\"^[0-9]+\", line)\n",
    "            if(match):\n",
    "                currentDay = match.group(0) #the whole match\n",
    "            widerSection = None\n",
    "        elif (newSection == Section.OTHER_READINGS_MORNING):\n",
    "            widerSection = Section.OTHER_READINGS_MORNING\n",
    "        elif (newSection == Section.OTHER_READINGS_EVENING):\n",
    "            widerSection = Section.OTHER_READINGS_EVENING\n",
    "        elif (newSection == Section.UNKNOWN and widerSection == Section.OTHER_READINGS_MORNING and line != \"Other Readings\"):\n",
    "            otherReadingsMorning.append(line)\n",
    "        elif (newSection == Section.UNKNOWN and widerSection == Section.OTHER_READINGS_EVENING):\n",
    "            otherReadingsEvening.append(line)\n",
    "          \n",
    "        currentSection = widerSection if widerSection else newSection\n",
    "        previousLine = line\n",
    "              "
   ]
  },
  {
   "cell_type": "code",
   "execution_count": 5,
   "id": "099ed58e",
   "metadata": {},
   "outputs": [
    {
     "name": "stdout",
     "output_type": "stream",
     "text": [
      "hit line SAT St Stephen, the first Christian Martyr/\n",
      "hit line SUN 2nd Sunday of Christmas/Te Rātapu Tuarua i muri i te Rā Whānautanga\n",
      "hit line SUN THE EPIPHANY of our Lord Jesus Christ\n",
      "hit line WED ASH WEDNESDAY: The First Day of Lent/Te Wenerei Pungarehu\n",
      "hit line TUE\n",
      "hit line TUE Day of Prayer for the Care of Creation\n",
      "hit line SUN If All Saints\n",
      "None None DECEMBER 2020 (previous day was FRI 25 DECEMBER 2020)\n",
      "None None JANUARY 2021 (previous day was FRI 2 JANUARY 2021)\n",
      "None None JANUARY 2021 (previous day was SAT 9 JANUARY 2021)\n",
      "None None FEBRUARY 2021 (previous day was TUE 16 FEBRUARY 2021)\n",
      "None None AUGUST 2021 (previous day was TUE 3 AUGUST 2021)\n",
      "None None OCTOBER 2021 (previous day was MON 4 OCTOBER 2021)\n",
      "None None OCTOBER 2021 (previous day was SAT 30 OCTOBER 2021)\n"
     ]
    }
   ],
   "source": [
    "days = []\n",
    "goThroughFile()\n",
    "\n",
    "for index, value in enumerate(days):\n",
    "    day = days[index]\n",
    "        \n",
    "    if \"None\" in day['date']:\n",
    "        previousDay = days[index - 1]\n",
    "        print(f\"{day['date']} (previous day was {previousDay['date']})\")\n",
    "    \n",
    "    "
   ]
  },
  {
   "cell_type": "markdown",
   "id": "1dfb792b",
   "metadata": {},
   "source": [
    "# Stop\n",
    "Only continue once the above statement prints all the dates correctly (modify the text file and rerun until it is complete"
   ]
  },
  {
   "cell_type": "code",
   "execution_count": null,
   "id": "352c2115",
   "metadata": {},
   "outputs": [],
   "source": []
  }
 ],
 "metadata": {
  "kernelspec": {
   "display_name": "Python 3 (ipykernel)",
   "language": "python",
   "name": "python3"
  },
  "language_info": {
   "codemirror_mode": {
    "name": "ipython",
    "version": 3
   },
   "file_extension": ".py",
   "mimetype": "text/x-python",
   "name": "python",
   "nbconvert_exporter": "python",
   "pygments_lexer": "ipython3",
   "version": "3.9.6"
  }
 },
 "nbformat": 4,
 "nbformat_minor": 5
}
